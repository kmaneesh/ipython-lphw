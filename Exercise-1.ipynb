{
 "cells": [
  {
   "cell_type": "markdown",
   "metadata": {},
   "source": [
    "# A Good First Program"
   ]
  },
  {
   "cell_type": "markdown",
   "metadata": {},
   "source": [
    "Remember, you should have spent a good amount of time in understanding how to upload a ipython notebook on https://try.jupyter.org/ website. Learn how to switch to python 3 kernel. All the excercise are for python 3. Learn the basics of iPython notebook about cell.\n",
    "\n",
    "Type the following text into the cell below in the notebook and run. In case of any error try to debug it."
   ]
  },
  {
   "cell_type": "markdown",
   "metadata": {},
   "source": [
    "```python\n",
    "print(\"Hello World!\")\n",
    "print(\"Hello Again\")\n",
    "print(\"I like typing this.\")\n",
    "print(\"This is fun.\")\n",
    "print('Yay! Printing.')\n",
    "print(\"I'd much rather you 'not'.\")\n",
    "print('I \"said\" do not touch this.')\n",
    "```"
   ]
  },
  {
   "cell_type": "code",
   "execution_count": null,
   "metadata": {},
   "outputs": [],
   "source": []
  },
  {
   "cell_type": "markdown",
   "metadata": {},
   "source": [
    "You should see this below the cell:\n",
    "<code>\n",
    "Hello World!\n",
    "Hello Again\n",
    "I like typing this.\n",
    "This is fun.\n",
    "Yay! Printing.\n",
    "I'd much rather you 'not'.\n",
    "I \"said\" do not touch this.\n",
    "</code>"
   ]
  },
  {
   "cell_type": "markdown",
   "metadata": {},
   "source": [
    "If you have an error, it will look like this:\n",
    "<code>\n",
    "File \"<ipython-input-5-b0e3225c010b>\", line 1\n",
    "    print('I \"said\" do not touch this.'\n",
    "                                       ^\n",
    "SyntaxError: unexpected EOF while parsing\n",
    "</code>\n"
   ]
  },
  {
   "cell_type": "markdown",
   "metadata": {},
   "source": [
    "It’s important that you can read these, since you will be making many of these mistakes. Even I make many of these mistakes. Let’s look at this line by line.\n",
    "1. Here we ran our command in the ipython cell.\n",
    "2. Python then tells us that the codey has an error on line.\n",
    "3. It then prints this line for us.\n",
    "4. Then it puts a ^ (caret) character to point at where the problem is. Notice the missing \" closing bracket character?\n",
    "5. Finally, it prints out a SyntaxError and tells us something about what might be the error. Usually these are very cryptic, but if you copy that text into a search engine, you will find someone else who’s had that error and you can probably figure out how to fix it."
   ]
  },
  {
   "cell_type": "markdown",
   "metadata": {},
   "source": [
    "### Study Drills"
   ]
  },
  {
   "cell_type": "markdown",
   "metadata": {},
   "source": [
    "Each exercise also contains Study Drills. The Study Drills contain things you should try to do. If you can’t, skip it and come back later.\n",
    "For this exercise, try these things:\n",
    "1. Make your script print another line.\n",
    "2. Make your script print only one of the lines.\n",
    "3. Put a “#” (octothorpe) character at the beginning of a line. What did it do? Try to find out what this character does."
   ]
  },
  {
   "cell_type": "markdown",
   "metadata": {},
   "source": [
    "From now on, I won’t explain how each exercise works unless an exercise is different.\n"
   ]
  },
  {
   "cell_type": "markdown",
   "metadata": {},
   "source": [
    "> NOTE: An “octothorpe” is also called a “pound,” “hash,” “mesh,” or any number of names. Pick the one that makes you chill out.\n"
   ]
  }
 ],
 "metadata": {
  "kernelspec": {
   "display_name": "Python 3",
   "language": "python",
   "name": "python3"
  },
  "language_info": {
   "codemirror_mode": {
    "name": "ipython",
    "version": 3
   },
   "file_extension": ".py",
   "mimetype": "text/x-python",
   "name": "python",
   "nbconvert_exporter": "python",
   "pygments_lexer": "ipython3",
   "version": "3.5.2"
  }
 },
 "nbformat": 4,
 "nbformat_minor": 2
}
