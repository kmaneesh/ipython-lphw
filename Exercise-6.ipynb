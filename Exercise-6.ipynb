{
 "cells": [
  {
   "cell_type": "markdown",
   "metadata": {},
   "source": [
    "# Strings and Text"
   ]
  },
  {
   "cell_type": "markdown",
   "metadata": {},
   "source": [
    "\n",
    "**While** you have already been writing strings, you still do not know what they do. In this exer- cise, we create a bunch of variables with complex strings so you can see what they are for. \n",
    "\n",
    "First an explanation of strings.\n",
    "\n",
    "A string is usually a bit of text you want to display to someone or “export” out of the program you are writing. Python knows you want something to be a string when you put either \" (double- quotes) or ' (single-quotes) around the text. You saw this many times with your use of print when you put the text you want to go to the string inside \" or ' after the print. Then Python prints it.\n",
    "\n",
    "Strings may contain the format characters you have discovered so far. You simply put the format- ted variables in the string, and then a % (percent) character, followed by the variable. The only catch is that if you want multiple formats in your string to print multiple variables, you need to put them inside ( ) (parentheses) separated by , (commas). It’s as if you were telling me to buy you a list of items from the store and you said, “I want milk, eggs, bread, and soup.” Only as a programmer we say, “(milk, eggs, bread, soup).”\n",
    "\n",
    "We will now type in a whole bunch of strings, variables, and formats, and print them. You will also practice using short abbreviated variable names. Programmers love saving themselves time at your expense by using annoying cryptic variable names, so let’s get you started being able to read and write them early on."
   ]
  },
  {
   "cell_type": "markdown",
   "metadata": {},
   "source": [
    "```python\n",
    "x = \"There are %d types of people.\" % 10\n",
    "binary = \"binary\"\n",
    "do_not = \"don't\"\n",
    "y = \"Those who know %s and those who %s.\" % (binary, do_not)\n",
    "\n",
    "print(x)\n",
    "print(y)\n",
    "\n",
    "print (\"I said: %r.\" % x)\n",
    "print (\"I also said: '%s'.\" % y)\n",
    "\n",
    "hilarious = False\n",
    "joke_evaluation = \"Isn't that joke so funny?! {}\"\n",
    "\n",
    "print(joke_evaluation.format(hilarious))\n",
    "\n",
    "w = \"This is the left side of...\"\n",
    "e = \"a string with a right side.\"\n",
    "\n",
    "print(w + e)\n",
    "```"
   ]
  },
  {
   "cell_type": "code",
   "execution_count": null,
   "metadata": {},
   "outputs": [],
   "source": []
  },
  {
   "cell_type": "markdown",
   "metadata": {},
   "source": [
    "### What You Should See"
   ]
  },
  {
   "cell_type": "markdown",
   "metadata": {},
   "source": [
    "<code>\n",
    "There are 10 types of people.\n",
    "Those who know binary and those who don't.\n",
    "I said: 'There are 10 types of people.'.\n",
    "I also said: 'Those who know binary and those who don't.'.\n",
    "Isn't that joke so funny?! False\n",
    "This is the left side of...a string with a right side.\n",
    "</code>"
   ]
  },
  {
   "cell_type": "markdown",
   "metadata": {},
   "source": [
    "### Study Drills"
   ]
  },
  {
   "cell_type": "markdown",
   "metadata": {},
   "source": [
    "1. Go through this program and write a comment above each line explaining it.\n",
    "2. Find all the places where a string is put inside a string. There are four places.\n",
    "3. Are you sure there are only four places? How do you know? Maybe I like lying.\n",
    "4. Explain why adding the two strings w and e with + makes a longer string."
   ]
  },
  {
   "cell_type": "markdown",
   "metadata": {},
   "source": [
    "### Common Student Questions"
   ]
  },
  {
   "cell_type": "markdown",
   "metadata": {},
   "source": [
    "**What is the difference between %r and %s?**\n",
    "\n",
    "We use %r for debugging, since it displays the “raw” data of the variable, but we use %s and others for displaying to users.\n",
    "\n",
    "**What’s the point of %s and %d when you can just use %r?**\n",
    "\n",
    "The %r is best for debugging, and the other formats are for actually displaying variables to users.\n",
    "\n",
    "\n",
    "**If you thought the joke was funny could you write hilarious = True?** \n",
    "\n",
    "Yes, and you’ll learn more about these boolean values in Exercise 27.\n",
    "\n",
    "**Why do you put ' (single-quotes) around some strings and not others?**\n",
    "\n",
    "Mostly it’s because of style, but I’ll use a single-quote inside a string that has double-quotes. Look at line 10 to see how I’m doing that.\n",
    "\n",
    "**I get the error TypeError: not all arguments converted during string formatting. **\n",
    "You need to make sure that the line of code is exactly the same. What happens in this error is you have more % format characters in the string than variables to put in them. Go back and figure out what you did wrong."
   ]
  }
 ],
 "metadata": {
  "kernelspec": {
   "display_name": "Python 3",
   "language": "python",
   "name": "python3"
  },
  "language_info": {
   "codemirror_mode": {
    "name": "ipython",
    "version": 3
   },
   "file_extension": ".py",
   "mimetype": "text/x-python",
   "name": "python",
   "nbconvert_exporter": "python",
   "pygments_lexer": "ipython3",
   "version": "3.5.2"
  }
 },
 "nbformat": 4,
 "nbformat_minor": 2
}
