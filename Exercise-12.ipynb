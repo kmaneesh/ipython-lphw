{
 "cells": [
  {
   "cell_type": "markdown",
   "metadata": {},
   "source": [
    "# Prompting People"
   ]
  },
  {
   "cell_type": "markdown",
   "metadata": {},
   "source": [
    "**When** you typed raw_input(), you were typing the ( and ) characters, which are paren- thesis characters. This is similar to when you used them to do a format with extra vari- ables, as in \"%s %s\" % (x, y). For raw_input, you can also put in a prompt to show to a person so he knows what to type. Put a string that you want for the prompt inside the () so that it looks like this:\n"
   ]
  },
  {
   "cell_type": "markdown",
   "metadata": {},
   "source": [
    "```python\n",
    "y = input(\"Name? \")\n",
    "```"
   ]
  },
  {
   "cell_type": "code",
   "execution_count": null,
   "metadata": {},
   "outputs": [],
   "source": []
  },
  {
   "cell_type": "markdown",
   "metadata": {},
   "source": [
    "This prompts the user with “Name?” and puts the result into the variable y. This is how you ask\n",
    "someone a question and get the answer."
   ]
  },
  {
   "cell_type": "markdown",
   "metadata": {},
   "source": [
    "This means we can completely rewrite our previous exercise using just raw_input to do all the prompting."
   ]
  },
  {
   "cell_type": "markdown",
   "metadata": {},
   "source": [
    "```python\n",
    "age = input(\"How old are you? \")\n",
    "height = input(\"How tall are you? \")\n",
    "weight = input(\"How much do you weigh? \")\n",
    "\n",
    "print (\"So, you're %r old, %r tall and %r heavy.\" % (age, height, weight))\n",
    "```"
   ]
  },
  {
   "cell_type": "code",
   "execution_count": null,
   "metadata": {},
   "outputs": [],
   "source": []
  },
  {
   "cell_type": "markdown",
   "metadata": {},
   "source": [
    "### What You Should See"
   ]
  },
  {
   "cell_type": "markdown",
   "metadata": {},
   "source": [
    "<code>\n",
    "How old are you? 2\n",
    "How tall are you? 3\n",
    "How much do you weigh? 4\n",
    "So, you're '2' old, '3' tall and '4' heavy.\n",
    "</code>"
   ]
  },
  {
   "cell_type": "markdown",
   "metadata": {},
   "source": [
    "### Study Drills"
   ]
  },
  {
   "cell_type": "markdown",
   "metadata": {},
   "source": [
    "1. In Terminal, where you normally run python to run your scripts, type pydoc input. Read what it says. If you do not understand those; just read through and take notes about interesting things.\n"
   ]
  },
  {
   "cell_type": "markdown",
   "metadata": {},
   "source": [
    "### Common Student Questions"
   ]
  },
  {
   "cell_type": "markdown",
   "metadata": {},
   "source": [
    "**How come I get SyntaxError: invalid syntax whenever I run pydoc?**\n",
    "\n",
    "You aren’t running pydoc from the command line; you’re probably running it from inside python. Exit out of python first.\n",
    "\n",
    "**Why does my pydoc not pause like yours does?**\n",
    "\n",
    "Sometimes if the help document is short enough to fit on one screen, then pydoc will just print it.\n",
    "\n",
    "**When I run pydoc I get more is not recognized as an internal.**\n",
    "\n",
    "Some versions of Windows do not have that command, which means pydoc is broken for you. You can skip this Study Drill and just search online for Python documentation when you need it.\n",
    "\n",
    "**Why would I use %r over %s?**\n",
    "\n",
    "Remember, %r is for debugging and is “raw representation” while %s is for display. I will not answer this question again, so you must memorize this fact. This is the #1 thing people ask repeat- edly, and asking the same question over and over means you aren’t taking the time to memorize what you should. Stop now, and finally memorize this fact.\n",
    "\n",
    "**Why can’t I do print \"How old are you?\" , raw_input()?**\n",
    "\n",
    "You’d think that’d work, but Python doesn’t recognize that as valid. The only answer I can really give is, you just can’t."
   ]
  }
 ],
 "metadata": {
  "kernelspec": {
   "display_name": "Python 3",
   "language": "python",
   "name": "python3"
  },
  "language_info": {
   "codemirror_mode": {
    "name": "ipython",
    "version": 3
   },
   "file_extension": ".py",
   "mimetype": "text/x-python",
   "name": "python",
   "nbconvert_exporter": "python",
   "pygments_lexer": "ipython3",
   "version": "3.5.2"
  }
 },
 "nbformat": 4,
 "nbformat_minor": 2
}
