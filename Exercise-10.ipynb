{
 "cells": [
  {
   "cell_type": "markdown",
   "metadata": {},
   "source": [
    "# What Was That?"
   ]
  },
  {
   "cell_type": "markdown",
   "metadata": {},
   "source": [
    "In Exercise 9 I threw you some new stuff, just to keep you on your toes. I showed you two ways to make a string that goes across multiple lines. In the first way, I put the characters \\n (backslash n) between the names of the months. What these two characters do is put a new line character\n",
    "into the string at that point.\n",
    "\n",
    "This use of the \\ (backslash) character is a way we can put difficult-to-type characters into a string. There are plenty of these “escape sequences” available for different characters you might want to put in, but there’s a special one, the double backslash, which is just two of them \\. These two characters will print just one backslash. We’ll try a few of these sequences so you can see what I mean.\n",
    "\n",
    "Another important escape sequence is to escape a single-quote ' or double-quote \". Imagine you have a string that uses double-quotes and you want to put a double-quote in for the output. If you do this \"I \"understand\" joe.\" then Python will get confused since it will think the \" around \"understand\" actually ends the string. You need a way to tell Python that the \" inside the string isn’t a real double-quote.\n",
    "\n",
    "To solve this problem, you escape double-quotes and single-quotes so Python knows what to include in the string. Here’s an example:"
   ]
  },
  {
   "cell_type": "markdown",
   "metadata": {},
   "source": [
    "<code>\n",
    "\"I am 6'2\\\" tall.\" # escape double-quote inside string \n",
    "'I am 6\\'2\" tall.' # escape single-quote inside string\n",
    "</code>\n"
   ]
  },
  {
   "cell_type": "markdown",
   "metadata": {},
   "source": [
    "The second way is by using triple-quotes, which is just \"\"\" and works like a string, but you also can put as many lines of text as you want until you type \"\"\" again. We’ll also play with these."
   ]
  },
  {
   "cell_type": "markdown",
   "metadata": {},
   "source": [
    "```python\n",
    "tabby_cat = \"\\tI'm tabbed in.\"\n",
    "persian_cat = \"I'm split\\non a line.\"\n",
    "backslash_cat = \"I'm \\\\ a \\\\ cat.\"\n",
    "\n",
    "fat_cat = \"\"\"\n",
    "I'll do a list:\n",
    "\\t* Cat food\n",
    "\\t* Fishies\n",
    "\\t* Catnip\\n\\t* Grass\n",
    "\"\"\"\n",
    "\n",
    "print(tabby_cat)\n",
    "print(persian_cat)\n",
    "print(backslash_cat)\n",
    "print(fat_cat)\n",
    "```"
   ]
  },
  {
   "cell_type": "code",
   "execution_count": null,
   "metadata": {},
   "outputs": [],
   "source": []
  },
  {
   "cell_type": "markdown",
   "metadata": {},
   "source": [
    "### What You Should See"
   ]
  },
  {
   "cell_type": "markdown",
   "metadata": {},
   "source": [
    "Look for the tab characters that you made. In this exercise, the spacing is important to get right."
   ]
  },
  {
   "cell_type": "markdown",
   "metadata": {},
   "source": [
    "<code>\n",
    "\tI'm tabbed in.\n",
    "I'm split\n",
    "on a line.\n",
    "I'm \\ a \\ cat.\n",
    "\n",
    "I'll do a list:\n",
    "\t* Cat food\n",
    "\t* Fishies\n",
    "\t* Catnip\n",
    "\t* Grass\n",
    "</code>"
   ]
  },
  {
   "cell_type": "markdown",
   "metadata": {},
   "source": [
    "### Escape Sequences"
   ]
  },
  {
   "cell_type": "markdown",
   "metadata": {},
   "source": [
    "This is the list of all the escape sequences Python supports. You may not use many of these, but memorize their format and what they do anyway. Also try them out in some strings to see if you can make them work.\n"
   ]
  },
  {
   "cell_type": "markdown",
   "metadata": {},
   "source": [
    "<code>\n",
    "Escape     What it does.\n",
    "\\\\         Backslash (\\)\n",
    "\\'         Single-quote (') \\\" Double-quote (\")\n",
    "\\a         ASCII bell (BEL)\n",
    "\\b         ASCII backspace (BS)\n",
    "\\f         ASCII formfeed (FF)\n",
    "\\n         ASCII linefeed (LF)\n",
    "\\N{name}   Character named name in the Unicode database (Unicode only) \n",
    "\\r         ASCII carriage return (CR)\n",
    "\\t         ASCII horizontal tab (TAB)\n",
    "\\uxxxx     Character with 16-bit hex value xxxx (Unicode only) \n",
    "\\Uxxxxxxxx Character with 32-bit hex value xxxxxxxx (Unicode only) \n",
    "\\v         ASCII vertical tab (VT)\n",
    "\\ooo       Character with octal value oo\n",
    "\\xhh       Character with hex value hh\n",
    "</code>"
   ]
  },
  {
   "cell_type": "markdown",
   "metadata": {},
   "source": [
    "Here’s a tiny piece of fun code to try out:"
   ]
  },
  {
   "cell_type": "markdown",
   "metadata": {},
   "source": [
    "```python\n",
    "while True:\n",
    "    for i in [\"/\",\"-\",\"|\",\"\\\\\",\"|\"]:\n",
    "        print (\"%s\\r\" % i,)\n",
    "```"
   ]
  },
  {
   "cell_type": "code",
   "execution_count": null,
   "metadata": {},
   "outputs": [],
   "source": []
  },
  {
   "cell_type": "markdown",
   "metadata": {},
   "source": [
    "### Study Drills"
   ]
  },
  {
   "cell_type": "markdown",
   "metadata": {},
   "source": [
    "1. Memorize all the escape sequences by putting them on flash cards.\n",
    "2. Use ''' (triple-single-quote) instead. Can you see why you might use that instead of\n",
    "\"\"\"?\n",
    "3. Combine escape sequences and format strings to create a more complex format.\n",
    "4. Remember the %r format? Combine %r with double-quote and single-quote escapes and print them out. Compare %r with %s. Notice how %r prints it the way you’d write it in your file, but %s prints it the way you’d like to see it?"
   ]
  },
  {
   "cell_type": "markdown",
   "metadata": {},
   "source": [
    "### Common Student Questions"
   ]
  },
  {
   "cell_type": "markdown",
   "metadata": {},
   "source": [
    "**I still haven’t completely figured out the last exercise. Should I continue?**\n",
    "\n",
    "Yes, keep going, and instead of stopping, take notes listing things you don’t understand for each exercise. Periodically go through your notes and see if you can figure these things out after you’ve completed more exercises. Sometimes, though, you may need to go back a few exercises and go through them again.\n",
    "\n",
    "**What makes \\\\ special compared to the other ones?**\n",
    "\n",
    "It’s simply the way you would write out one backslash (\\) character. Think about why you would need this.\n",
    "\n",
    "**When I write // or /n it doesn’t work.**\n",
    "\n",
    "That’s because you are using a forward-slash / and not a backslash \\. They are different characters that do very different things.\n",
    "\n",
    "**When I use a %r format none of the escape sequences work.**\n",
    "\n",
    "That’s because %r is printing out the raw representation of what you typed, which is going to include the original escape sequences. Use %s instead. Always remember this: %r is for debugging; %s is for displaying.\n",
    "\n",
    "**I don’t get Study Drills #3. What do you mean by “combine” escapes and formats?**\n",
    "\n",
    "One of the things I try to get you to understand is that each of these exercises can be combined to solve problems. Take what you know about format sequences and write some new code that uses those and the escapes from this exercise.\n",
    "\n",
    "**What’s better, ''' or \"\"\"?**\n",
    "\n",
    "It’s entirely based on style. Go with the ''' (triple-single-quote) style for now, but be ready to use either, depending on what feels best or what everyone else is doing."
   ]
  }
 ],
 "metadata": {
  "kernelspec": {
   "display_name": "Python 3",
   "language": "python",
   "name": "python3"
  },
  "language_info": {
   "codemirror_mode": {
    "name": "ipython",
    "version": 3
   },
   "file_extension": ".py",
   "mimetype": "text/x-python",
   "name": "python",
   "nbconvert_exporter": "python",
   "pygments_lexer": "ipython3",
   "version": "3.5.2"
  }
 },
 "nbformat": 4,
 "nbformat_minor": 2
}
