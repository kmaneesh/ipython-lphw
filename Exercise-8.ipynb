{
 "cells": [
  {
   "cell_type": "markdown",
   "metadata": {},
   "source": [
    "# Printing, Printing"
   ]
  },
  {
   "cell_type": "markdown",
   "metadata": {},
   "source": [
    "```python\n",
    "formatter = \"%r %r %r %r\"\n",
    "\n",
    "print (formatter % (1, 2, 3, 4))\n",
    "print (formatter % (\"one\", \"two\", \"three\", \"four\"))\n",
    "print (formatter % (True, False, False, True))\n",
    "print (formatter % (formatter, formatter, formatter, formatter))\n",
    "print (formatter % (\"I had this thing.\", \"That you could type up right.\", \"But it didn't sing.\", \"So I said good night.\"))\n",
    "```"
   ]
  },
  {
   "cell_type": "code",
   "execution_count": null,
   "metadata": {},
   "outputs": [],
   "source": []
  },
  {
   "cell_type": "markdown",
   "metadata": {},
   "source": [
    "### What You Should See"
   ]
  },
  {
   "cell_type": "markdown",
   "metadata": {},
   "source": [
    "<code>\n",
    "1 2 3 4\n",
    "'one' 'two' 'three' 'four'\n",
    "True False False True\n",
    "'%r %r %r %r' '%r %r %r %r' '%r %r %r %r' '%r %r %r %r'\n",
    "'I had this thing.' 'That you could type up right.' \"But it didn't sing.\" 'So I said good night.'\n",
    "</code>"
   ]
  },
  {
   "cell_type": "markdown",
   "metadata": {},
   "source": [
    "### Study Drills"
   ]
  },
  {
   "cell_type": "markdown",
   "metadata": {},
   "source": [
    "1. Do your checks of your work, write down your mistakes, and try not to make them on the next exercise.\n",
    "2. Notice that the last line of output uses both single-quotes and double-quotes for indi- vidual pieces. Why do you think that is?"
   ]
  },
  {
   "cell_type": "markdown",
   "metadata": {},
   "source": [
    "### Common Student Questions"
   ]
  },
  {
   "cell_type": "markdown",
   "metadata": {},
   "source": [
    "**Should I use %s or %r for formatting?**\n",
    "\n",
    "You should use %s and only use %r for getting debugging information about something. The %r will give you the “raw programmer’s” version of variable, also known as the “representation.”\n",
    "\n",
    "**Why do I have to put quotes around “one” but not around True or False?**\n",
    "\n",
    "That’s because Python recognizes True and False as keywords representing the concept of true and false. If you put quotes around them, then they are turned into strings and won’t work right. You’ll learn more about how these work in Exercise 27.\n",
    "\n",
    "**I tried putting Chinese (or some other non-ASCII characters) into these strings, but %r prints out weird symbols.**\n",
    "\n",
    "Use %s to print that instead and it’ll work.\n",
    "\n",
    "**Why does %r sometimes print things with single-quotes when I wrote them with double-quotes? **\n",
    "Python is going to print the strings in the most efficient way it can, not replicate exactly the way you wrote them. This is perfectly fine since %r is used for debugging and inspection, so it’s not necessary that it be pretty."
   ]
  }
 ],
 "metadata": {
  "kernelspec": {
   "display_name": "Python 3",
   "language": "python",
   "name": "python3"
  },
  "language_info": {
   "codemirror_mode": {
    "name": "ipython",
    "version": 3
   },
   "file_extension": ".py",
   "mimetype": "text/x-python",
   "name": "python",
   "nbconvert_exporter": "python",
   "pygments_lexer": "ipython3",
   "version": "3.5.2"
  }
 },
 "nbformat": 4,
 "nbformat_minor": 2
}
