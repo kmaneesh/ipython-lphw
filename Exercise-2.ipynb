{
 "cells": [
  {
   "cell_type": "markdown",
   "metadata": {},
   "source": [
    "# Exercise 2"
   ]
  },
  {
   "cell_type": "markdown",
   "metadata": {},
   "source": [
    "## Comments and Pound Characters"
   ]
  },
  {
   "cell_type": "markdown",
   "metadata": {},
   "source": [
    "**C**omments are very important in your programs. They are used to tell you what something does in English, and they also are used to disable parts of your program if you need to remove them temporarily. Here’s how you use comments in Python:"
   ]
  },
  {
   "cell_type": "markdown",
   "metadata": {},
   "source": [
    "```python\n",
    "# A comment, this is so you can read your program later.\n",
    "# Anything after the # is ignored by python.\n",
    "\n",
    "print(\"I could have code like this.\") # and the comment after is ignored\n",
    "\n",
    "# You can also use a comment to \"disable\" or comment out a piece of code:\n",
    "# print(\"This won't run.\")\n",
    "\n",
    "print(\"This will run.\")\n",
    "\n",
    "```"
   ]
  },
  {
   "cell_type": "markdown",
   "metadata": {},
   "source": [
    "From now on, I’m going to write code like this. It is important for you to understand that every- thing does not have to be literal. Your screen and program may visually look different, but what’s important is the text you type into the cell you’re writing in your python notebook. \n",
    "\n",
    "Go ahead type out the above program in the cell and run."
   ]
  },
  {
   "cell_type": "code",
   "execution_count": null,
   "metadata": {},
   "outputs": [],
   "source": []
  },
  {
   "cell_type": "markdown",
   "metadata": {},
   "source": [
    "### What You Should See"
   ]
  },
  {
   "cell_type": "markdown",
   "metadata": {},
   "source": [
    "<code>\n",
    "I could have code like this.\n",
    "This will run.\n",
    "</code>"
   ]
  },
  {
   "cell_type": "markdown",
   "metadata": {},
   "source": [
    "### Study Drills"
   ]
  },
  {
   "cell_type": "markdown",
   "metadata": {},
   "source": [
    "1. Find out if you were right about what the # character does and make sure you know what it’s called (octothorpe or pound character).\n",
    "2. Review each line of code in the cell by going backward. Start at the last line, and check each word in reverse against what you should have typed.\n",
    "3. Did you find more mistakes? Fix them.\n",
    "4. Read what you typed previously out loud, including saying each character by its name. Did you find more mistakes? Fix them.\n"
   ]
  },
  {
   "cell_type": "markdown",
   "metadata": {},
   "source": [
    "### Common Student Questions"
   ]
  },
  {
   "cell_type": "markdown",
   "metadata": {},
   "source": [
    "**Are you sure # is called the pound character?**\n",
    "\n",
    "I call it the octothorpe and that is the only name that no country uses and that works in every country. Every country thinks its way to call this one character is both the most important way to do it and also the only way it’s done. To me this is simply arrogance and, really, y’all should just chill out and focus on more important things like learning to code.\n",
    "\n",
    "**If # is for comments, then how come # -*- coding: utf-8 -*- works?**\n",
    "\n",
    "Python still ignores that as code, but it’s used as a kind of “hack” or workaround for problems with setting and detecting the format of a file. You also find a similar kind of comment for editor settings.\n",
    "\n",
    "**Why does the # in print \"Hi # there.\" not get ignored?**\n",
    "\n",
    "The # in that code is inside a string, so it will be put into the string until the ending \" character is hit. These pound characters are just considered characters and aren’t considered comments.\n",
    "\n",
    "**How do I comment out multiple lines?**\n",
    "\n",
    "Put a # in front of each one.\n",
    "\n",
    "**I can’t figure out how to type a # character on my country’s keyboard?**\n",
    "\n",
    "Some countries use the Alt key and combinations of those to print characters foreign to their language. You’ll have to look online in a search engine to see how to type it.\n",
    "\n",
    "**Why do I have to read code backward?**\n",
    "\n",
    "It’s a trick to make your brain not attach meaning to each part of the code, and doing that makes you process each piece exactly. This catches errors and is a handy error-checking technique."
   ]
  },
  {
   "cell_type": "code",
   "execution_count": null,
   "metadata": {
    "collapsed": true
   },
   "outputs": [],
   "source": []
  }
 ],
 "metadata": {
  "kernelspec": {
   "display_name": "Python 3",
   "language": "python",
   "name": "python3"
  },
  "language_info": {
   "codemirror_mode": {
    "name": "ipython",
    "version": 3
   },
   "file_extension": ".py",
   "mimetype": "text/x-python",
   "name": "python",
   "nbconvert_exporter": "python",
   "pygments_lexer": "ipython3",
   "version": "3.5.2"
  }
 },
 "nbformat": 4,
 "nbformat_minor": 2
}
