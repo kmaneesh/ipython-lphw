{
 "cells": [
  {
   "cell_type": "markdown",
   "metadata": {},
   "source": [
    "# Variables and Names\n"
   ]
  },
  {
   "cell_type": "markdown",
   "metadata": {},
   "source": [
    "**Now** you can print things with print and you can do math. The next step is to learn about variables. In programming, a variable is nothing more than a name for something so you can use the name rather than the something as you code. Programmers use these variable names to make their code read more like English and because they have lousy memories. If they didn’t use good names for things in their software, they’d get lost when they tried to read their code again.\n",
    "\n",
    "If you get stuck with this exercise, remember the tricks you have been taught so far of finding differences and focusing on details:"
   ]
  },
  {
   "cell_type": "markdown",
   "metadata": {},
   "source": [
    "1. Write a comment above each line explaining to yourself what it does in English. \n",
    "2. Read your python code backward.\n",
    "3. Read your python code out loud, saying even the characters."
   ]
  },
  {
   "cell_type": "markdown",
   "metadata": {},
   "source": [
    "```python\n",
    "cars = 100\n",
    "space_in_a_car = 4.0\n",
    "drivers = 30\n",
    "passengers = 90\n",
    "cars_not_driven = cars - drivers\n",
    "cars_driven = drivers\n",
    "carpool_capacity = cars_driven * space_in_a_car\n",
    "average_passengers_per_car = passengers / cars_driven\n",
    "\n",
    "\n",
    "print(\"There are\", cars, \"cars available.\")\n",
    "print(\"There are only\", drivers, \"drivers available.\")\n",
    "print(\"There will be\", cars_not_driven, \"empty cars today.\")\n",
    "print(\"We can transport\", carpool_capacity, \"people today.\")\n",
    "print(\"We have\", passengers, \"to carpool today.\")\n",
    "print(\"We need to put about\", average_passengers_per_car, \"in each car.\")\n",
    "```"
   ]
  },
  {
   "cell_type": "markdown",
   "metadata": {},
   "source": [
    "> NOTE: The _ in space_in_a_car is called an underscore character. Find out how to type it if you do not already know. We use this character a lot to put an imaginary space between words in variable names."
   ]
  },
  {
   "cell_type": "code",
   "execution_count": null,
   "metadata": {},
   "outputs": [],
   "source": []
  },
  {
   "cell_type": "markdown",
   "metadata": {},
   "source": [
    "### What You Should See"
   ]
  },
  {
   "cell_type": "markdown",
   "metadata": {},
   "source": [
    "<code>\n",
    "There are 100 cars available.\n",
    "There are only 30 drivers available.\n",
    "There will be 70 empty cars today.\n",
    "We can transport 120.0 people today.\n",
    "We have 90 to carpool today.\n",
    "We need to put about 3.0 in each car.\n",
    "</code>"
   ]
  },
  {
   "cell_type": "markdown",
   "metadata": {},
   "source": [
    "### Study Drills"
   ]
  },
  {
   "cell_type": "markdown",
   "metadata": {},
   "source": [
    "When I wrote this program the first time I had a mistake, and Python told me about it like this:\n",
    "\n",
    "```python\n",
    "---------------------------------------------------------------------------\n",
    "NameError                                 Traceback (most recent call last)\n",
    "<ipython-input-4-98577d527b4a> in <module>()\n",
    "     12 print(\"There are only\", drivers, \"drivers available.\")\n",
    "     13 print(\"There will be\", cars_not_driven, \"empty cars today.\")\n",
    "---> 14 print(\"We can transport\", carpool_capacity, \"people today.\")\n",
    "     15 print(\"We have\", passengers, \"to carpool today.\")\n",
    "     16 print(\"We need to put about\", average_passengers_per_car, \"in each car.\")\n",
    "\n",
    "NameError: name 'carpool_capacity' is not defined\n",
    "```"
   ]
  },
  {
   "cell_type": "markdown",
   "metadata": {},
   "source": [
    "Explain this error in your own words. Make sure you use line numbers and explain why. \n",
    "\n",
    "Here’s more Study Drills:\n",
    "1. I used 4.0 for space_in_a_car, but is that necessary? What happens if it’s just 4?\n",
    "2. Remember that 4.0 is a “floating point” number. Find out what that means.\n",
    "3. Write comments above each of the variable assignments.\n",
    "4. Make sure you know what = is called (equals) and that it’s making names for things.\n",
    "5. Remember that _ is an underscore character.\n",
    "6. Try running Python as a calculator like you did before and use variable names to do your calculations. Popular variable names are also i, x, and j."
   ]
  },
  {
   "cell_type": "markdown",
   "metadata": {},
   "source": [
    "### Common Student Questions"
   ]
  },
  {
   "cell_type": "markdown",
   "metadata": {},
   "source": [
    "**What is the difference between = (single-equal) and == (double-equal)?**\n",
    "\n",
    "The = (single-equal) assigns the value on the right to a variable on the left. The == (double-equal) tests if two things have the same value, and you’ll learn about this in Exercise 27.\n",
    "\n",
    "**Can we write x=100 instead of x = 100?**\n",
    "\n",
    "You can, but it’s bad form. You should add space around operators like this so that it’s easier to read.\n",
    "\n",
    "**How can I print without spaces between words in print?**\n",
    "\n",
    "You do it like this: print \"Hey %s there.\" % \"you\". You will do more of this soon.\n",
    "\n",
    "**What do you mean by “read the file backward”?**\n",
    "\n",
    "Very simple. Imagine you have a file with 16 lines of code in it. Start at line 16, and compare it to my file at line 16. Then do it again for 15, and so on, until you’ve read the whole file backward.\n",
    "\n",
    "***Why did you use 4.0 for space?***\n",
    "It is mostly so you can then find out what a floating point number is and ask this question. See the Study Drills."
   ]
  }
 ],
 "metadata": {
  "kernelspec": {
   "display_name": "Python 3",
   "language": "python",
   "name": "python3"
  },
  "language_info": {
   "codemirror_mode": {
    "name": "ipython",
    "version": 3
   },
   "file_extension": ".py",
   "mimetype": "text/x-python",
   "name": "python",
   "nbconvert_exporter": "python",
   "pygments_lexer": "ipython3",
   "version": "3.5.2"
  }
 },
 "nbformat": 4,
 "nbformat_minor": 2
}
