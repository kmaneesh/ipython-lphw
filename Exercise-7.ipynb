{
 "cells": [
  {
   "cell_type": "markdown",
   "metadata": {},
   "source": [
    "# More Printing"
   ]
  },
  {
   "cell_type": "markdown",
   "metadata": {},
   "source": [
    "**Now** we are going to do a bunch of exercises where you just type code in and make it run. I won’t be explaining much since it is just more of the same. The purpose is to build up your chops. See you in a few exercises, and do not skip! Do not paste!"
   ]
  },
  {
   "cell_type": "markdown",
   "metadata": {},
   "source": [
    "```python\n",
    "print(\"Mary had a little lamb.\")\n",
    "print(\"Its fleece was white as {}.\".format('snow'))\n",
    "print(\"And everywhere that Mary went.\")\n",
    "print(\".\" * 10)  # what'd that do?\n",
    "\n",
    "end1 = \"C\"\n",
    "end2 = \"h\"\n",
    "end3 = \"e\"\n",
    "end4 = \"e\"\n",
    "end5 = \"s\"\n",
    "end6 = \"e\"\n",
    "end7 = \"B\"\n",
    "end8 = \"u\"\n",
    "end9 = \"r\"\n",
    "end10 = \"g\"\n",
    "end11 = \"e\"\n",
    "end12 = \"r\"\n",
    "\n",
    "# watch that comma at the end.  try removing it to see what happens\n",
    "print(end1 + end2 + end3 + end4 + end5 + end6, end=' ')\n",
    "print(end7 + end8 + end9 + end10 + end11 + end12)\n",
    "```"
   ]
  },
  {
   "cell_type": "code",
   "execution_count": null,
   "metadata": {},
   "outputs": [],
   "source": []
  },
  {
   "cell_type": "markdown",
   "metadata": {},
   "source": [
    "### What You Should See"
   ]
  },
  {
   "cell_type": "markdown",
   "metadata": {},
   "source": [
    "<code>\n",
    "Mary had a little lamb.\n",
    "Its fleece was white as snow.\n",
    "And everywhere that Mary went.\n",
    "..........\n",
    "Cheese Burger\n",
    "</code>"
   ]
  },
  {
   "cell_type": "markdown",
   "metadata": {},
   "source": [
    "### Study Drills"
   ]
  },
  {
   "cell_type": "markdown",
   "metadata": {},
   "source": [
    "For these next few exercises, you will have the exact same Study Drills."
   ]
  },
  {
   "cell_type": "markdown",
   "metadata": {},
   "source": [
    "1. Go back through and write a comment on what each line does.\n",
    "2. Read each one backward or out loud to find your errors.\n",
    "3. From now on, when you make mistakes, write down on a piece of paper what kind of mistake you made.\n",
    "4. When you go to the next exercise, look at the last mistakes you made and try not to make them in this new one.\n",
    "5. Remember that everyone makes mistakes. Programmers are like magicians who like everyone to think they are perfect and never wrong, but it’s all an act. They make mis- takes all the time."
   ]
  },
  {
   "cell_type": "markdown",
   "metadata": {},
   "source": [
    "### Common Student Questions"
   ]
  },
  {
   "cell_type": "markdown",
   "metadata": {},
   "source": [
    "**How does the “end” statement work?**\n",
    "\n",
    "These are not really an “end statement,” but actually the names of variables that just happen to have the word “end” in them.\n",
    "\n",
    "**Why are you using the variable named 'snow'?**\n",
    "\n",
    "That’s actually not a variable: it is just a string with the word snow in it. A variable wouldn’t have the single-quotes around it.\n",
    "\n",
    "**Is it normal to write an English comment for every line of code like you say to do in Study Drills #1? **\n",
    "\n",
    "No, normally you write comments only to explain difficult to understand code or why you did something. Why (or your motivation) is usually much more important, and then you try to write the code so that it explains how something is being done on its own. However, sometimes you just have to write such nasty code to solve a problem that it does need a comment on every line. In this case, though, it’s strictly for you to get better at translating from code to English.\n",
    "\n",
    "**Can I use single-quotes or double-quotes to make a string or do they do different things?**\n",
    "\n",
    "In Python either way to make a string is acceptable, although typically you’ll use single-quotes for any short strings like 'a' or 'snow'.\n",
    "\n",
    "**Couldn’t you just not use the comma , and turn the last two lines into one single-line print?**\n",
    "Yes, you could very easily, but then it’d be longer than 80 characters, which in Python is bad style."
   ]
  }
 ],
 "metadata": {
  "kernelspec": {
   "display_name": "Python 3",
   "language": "python",
   "name": "python3"
  },
  "language_info": {
   "codemirror_mode": {
    "name": "ipython",
    "version": 3
   },
   "file_extension": ".py",
   "mimetype": "text/x-python",
   "name": "python",
   "nbconvert_exporter": "python",
   "pygments_lexer": "ipython3",
   "version": "3.5.2"
  }
 },
 "nbformat": 4,
 "nbformat_minor": 2
}
