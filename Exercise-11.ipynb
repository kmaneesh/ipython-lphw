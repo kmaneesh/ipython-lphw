{
 "cells": [
  {
   "cell_type": "markdown",
   "metadata": {},
   "source": [
    "# Asking Questions"
   ]
  },
  {
   "cell_type": "markdown",
   "metadata": {},
   "source": [
    "**Now** it is time to pick up the pace. I have got you doing a lot of printing so that you get used to typing simple things, but those simple things are fairly boring. What we want to do now is get data into your programs. This is a little tricky because you have to learn to do two things that may not make sense right away, but trust me and do it anyway. It will make sense in a few exercises. Most of what software does is the following:\n",
    "\n",
    "1. Take some kind of input from a person.\n",
    "2. Change it.\n",
    "3. Print out something to show how it changed.\n"
   ]
  },
  {
   "cell_type": "markdown",
   "metadata": {},
   "source": [
    "So far you have only been printing, but you haven’t been able to get any input from a person or change it. You may not even know what “input” means, so rather than talk about it, let’s have you do some and see if you get it. In the next exercise, we’ll do more to explain it."
   ]
  },
  {
   "cell_type": "markdown",
   "metadata": {},
   "source": [
    "```python\n",
    "print (\"How old are you?\",)\n",
    "age = input()\n",
    "print (\"How tall are you?\",)\n",
    "height = input()\n",
    "print (\"How much do you weigh?\",)\n",
    "weight = input()\n",
    "\n",
    "print (\"So, you're %r old, %r tall and %r heavy.\" % (age, height, weight))\n",
    "```"
   ]
  },
  {
   "cell_type": "code",
   "execution_count": null,
   "metadata": {},
   "outputs": [],
   "source": []
  },
  {
   "cell_type": "markdown",
   "metadata": {},
   "source": [
    "> NOTE: Notice that we put a , (comma) at the end of each print line. This is so that print doesn’t end the line with a new line character and go to the next line."
   ]
  },
  {
   "cell_type": "markdown",
   "metadata": {},
   "source": [
    "### What You Should See"
   ]
  },
  {
   "cell_type": "markdown",
   "metadata": {},
   "source": [
    "<code>\n",
    "How old are you?\n",
    "2\n",
    "How tall are you?\n",
    "3\n",
    "How much do you weigh?\n",
    "2\n",
    "So, you're '2' old, '3' tall and '2' heavy.\n",
    "</code>"
   ]
  },
  {
   "cell_type": "markdown",
   "metadata": {},
   "source": [
    "### Study Drills"
   ]
  },
  {
   "cell_type": "markdown",
   "metadata": {},
   "source": [
    "1. Go online and find out what Python’s raw_input does.\n",
    "2. Can you find other ways to use it? Try some of the samples you find.\n",
    "3. Write another “form” like this to ask some other questions.\n",
    "4. Related to escape sequences, try to find out why the last line has '6\\'2\"' with that \\' sequence. See how the single-quote needs to be escaped because otherwise it would end the string?\n"
   ]
  },
  {
   "cell_type": "markdown",
   "metadata": {},
   "source": [
    "### Common Student Questions"
   ]
  },
  {
   "cell_type": "markdown",
   "metadata": {},
   "source": [
    "**How do I get a number from someone so I can do math?**\n",
    "\n",
    "That’s a little advanced, but try x = int(raw_input()), which gets the number as a string from raw_input() then converts it to an integer using int().\n",
    "\n",
    "**I put my height into raw input like raw_input(\"6'2\") but it doesn’t work.**\n",
    "\n",
    "You don’t put your height in there; you type it directly into your Terminal. First thing is, go back and make the code exactly like mine. Next, run the script, and when it pauses, type your height in at your keyboard. That’s all there is to it.\n",
    "\n",
    "**Why do you have a new line on line 8 instead of putting it on one line?**\n",
    "That’s so that the line is less than 80 characters long, which is a style that Python programmers like. You could put it on one line if you like.\n",
    "\n",
    "**What’s the difference between input() and raw_input()?**\n",
    "\n",
    "The input() function will try to convert things you enter as if they were Python code, but it has security problems so you should avoid it.\n",
    "\n",
    "**When my strings print out there’s a u in front of them, as in u'35'.**\n",
    "\n",
    "That’s how Python tells you that the string is Unicode. Use a %s format instead and you’ll see it printed like normal."
   ]
  }
 ],
 "metadata": {
  "kernelspec": {
   "display_name": "Python 3",
   "language": "python",
   "name": "python3"
  },
  "language_info": {
   "codemirror_mode": {
    "name": "ipython",
    "version": 3
   },
   "file_extension": ".py",
   "mimetype": "text/x-python",
   "name": "python",
   "nbconvert_exporter": "python",
   "pygments_lexer": "ipython3",
   "version": "3.5.2"
  }
 },
 "nbformat": 4,
 "nbformat_minor": 2
}
