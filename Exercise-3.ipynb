{
 "cells": [
  {
   "cell_type": "markdown",
   "metadata": {},
   "source": [
    "# Numbers and Math\n"
   ]
  },
  {
   "cell_type": "markdown",
   "metadata": {},
   "source": [
    "**E**very programming language has some kind of way of doing numbers and math. Do not worry: programmers lie frequently about being math geniuses when they really aren’t. If they were math geniuses, they would be doing math, not writing ads and social network games to steal people’s money.\n",
    "\n",
    "This exercise has lots of math symbols. Let’s name them right away so you know what they are called. As you type this one in, say the names. When saying them feels boring, you can stop saying them. Here are the names:\n",
    "```python\n",
    "+ plus\n",
    "- minus\n",
    "/ slash\n",
    "* asterisk\n",
    "% percent\n",
    "< less-than\n",
    "> greater-than\n",
    "<= less-than-equal\n",
    ">= greater-than-equal\n",
    "```\n",
    "Notice how the operations are missing? After you type in the code for this exercise, go back and figure out what each of these does and complete the table. For example, + does addition."
   ]
  },
  {
   "cell_type": "markdown",
   "metadata": {},
   "source": [
    "```python\n",
    "print(\"I will now count my chickens:\")\n",
    "\n",
    "print(\"Hens\", 25 + 30 / 6)\n",
    "print(\"Roosters\", 100 - 25 * 3 % 4)\n",
    "\n",
    "print(\"Now I will count the eggs:\")\n",
    "\n",
    "print(3 + 2 + 1 - 5 + 4 % 2 - 1 / 4 + 6)\n",
    "\n",
    "print(\"Is it true that 3 + 2 < 5 - 7?\")\n",
    "\n",
    "print(3 + 2 < 5 - 7)\n",
    "\n",
    "print(\"What is 3 + 2?\", 3 + 2)\n",
    "print(\"What is 5 - 7?\", 5 - 7)\n",
    "\n",
    "print(\"Oh, that's why it's False.\")\n",
    "\n",
    "print(\"How about some more.\")\n",
    "\n",
    "print(\"Is it greater?\", 5 > -2)\n",
    "print(\"Is it greater or equal?\", 5 >= -2)\n",
    "print(\"Is it less or equal?\", 5 <= -2)\n",
    "```"
   ]
  },
  {
   "cell_type": "code",
   "execution_count": null,
   "metadata": {},
   "outputs": [],
   "source": []
  },
  {
   "cell_type": "markdown",
   "metadata": {},
   "source": [
    "### What You Should See"
   ]
  },
  {
   "cell_type": "markdown",
   "metadata": {},
   "source": [
    "<code>\n",
    "I will now count my chickens:\n",
    "Hens 30.0\n",
    "Roosters 97\n",
    "Now I will count the eggs:\n",
    "6.75\n",
    "Is it true that 3 + 2 < 5 - 7?\n",
    "False\n",
    "What is 3 + 2? 5\n",
    "What is 5 - 7? -2\n",
    "Oh, that's why it's False.\n",
    "How about some more.\n",
    "Is it greater? True\n",
    "Is it greater or equal? True\n",
    "Is it less or equal? False\n",
    "</code>"
   ]
  },
  {
   "cell_type": "markdown",
   "metadata": {},
   "source": [
    "### Study Drills"
   ]
  },
  {
   "cell_type": "markdown",
   "metadata": {},
   "source": [
    "1. Above each line, use the # to write a comment to yourself explaining what the line does.\n",
    "2. Remember in Exercise 0 when you started Python? Start Python this way again and, using\n",
    "the above characters and what you know, use Python as a calculator.\n",
    "3. Find something you need to calculate and write a new code that does it.\n",
    "4. Notice the math seems “wrong”? There are no fractions, only whole numbers. Find out why by researching what a “floating point” number is.\n",
    "5. Rewrite code to use floating point numbers so it’s more accurate (hint: 20.0 is floating point)."
   ]
  },
  {
   "cell_type": "markdown",
   "metadata": {},
   "source": [
    "### Common Student Questions\n"
   ]
  },
  {
   "cell_type": "markdown",
   "metadata": {},
   "source": [
    "**Why is the % character a “modulus” and not a “percent”?**\n",
    "\n",
    "Mostly that’s just how the designers chose to use that symbol. In normal writing, you are correct to read it as a “percent.” In programming, this calculation is typically done with simple division and the / operator. The % modulus is a different operation that just happens to use the % symbol.\n",
    "\n",
    "**How does % work?**\n",
    "\n",
    "Another way to say it is “X divided by Y with J remaining.” For example, “100 divided by 16 with 4 remaining.” The result of % is the J part, or the remaining part.\n",
    "\n",
    "**What is the order of operations?**\n",
    "\n",
    "In the United States we use an acronym called PEMDAS, which stands for Parentheses Exponents Multiplication Division Addition Subtraction. That’s the order Python follows as well.\n",
    "\n",
    "**Why does / (divide) round down?**\n",
    "It’s not really rounding down; it’s just dropping the fractional part after the decimal. Try doing 7.0 / 4.0 and compare it to 7 / 4 and you’ll see the difference."
   ]
  }
 ],
 "metadata": {
  "kernelspec": {
   "display_name": "Python 3",
   "language": "python",
   "name": "python3"
  },
  "language_info": {
   "codemirror_mode": {
    "name": "ipython",
    "version": 3
   },
   "file_extension": ".py",
   "mimetype": "text/x-python",
   "name": "python",
   "nbconvert_exporter": "python",
   "pygments_lexer": "ipython3",
   "version": "3.5.2"
  }
 },
 "nbformat": 4,
 "nbformat_minor": 2
}
