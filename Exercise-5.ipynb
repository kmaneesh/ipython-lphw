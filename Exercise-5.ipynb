{
 "cells": [
  {
   "cell_type": "markdown",
   "metadata": {},
   "source": [
    "# More Variables and Printing"
   ]
  },
  {
   "cell_type": "markdown",
   "metadata": {},
   "source": [
    "**Now** we’ll do even more typing of variables and printing them out. This time we’ll use some- thing called a “format string.” Every time you put \" (double-quotes) around a piece of text, you have been making a string. A string is how you make something that your program might give to a human. You print them, save them to files, send them to web servers, all sorts of things.\n",
    "\n",
    "Strings are really handy, so in this exercise you will learn how to make strings that have variables embedded in them. You embed variables inside a string by using specialized format sequences and then putting the variables at the end with a special syntax that tells Python, “Hey, this is a format string, put these variables in there.”\n",
    "\n",
    "As usual, just type this in even if you do not understand it and make it exactly the same."
   ]
  },
  {
   "cell_type": "markdown",
   "metadata": {},
   "source": [
    "```python\n",
    "my_name = 'Zed A. Shaw'\n",
    "my_age = 35 # not a lie\n",
    "my_height = 74 # inches\n",
    "my_weight = 180 # lbs\n",
    "my_eyes = 'Blue'\n",
    "my_teeth = 'White'\n",
    "my_hair = 'Brown'\n",
    "\n",
    "print (\"Let's talk about %s.\" % my_name)\n",
    "print (\"He's %d inches tall.\" % my_height)\n",
    "print (\"He's %d pounds heavy.\" % my_weight)\n",
    "print (\"Actually that's not too heavy.\")\n",
    "print (\"He's got %s eyes and %s hair.\" % (my_eyes, my_hair))\n",
    "print (\"His teeth are usually %s depending on the coffee.\" % my_teeth)\n",
    "\n",
    "# this line is tricky, try to get it exactly right\n",
    "total = my_age + my_height + my_weight\n",
    "print (\"If I add %d, %d, and %d I get %d.\"%(my_age, my_height, my_weight, my_age + my_height + my_weight))\n",
    "```"
   ]
  },
  {
   "cell_type": "code",
   "execution_count": null,
   "metadata": {},
   "outputs": [],
   "source": []
  },
  {
   "cell_type": "markdown",
   "metadata": {},
   "source": [
    "### What You Should See"
   ]
  },
  {
   "cell_type": "markdown",
   "metadata": {},
   "source": [
    "<code>\n",
    "Let's talk about Zed A. Shaw.\n",
    "He's 74 inches tall.\n",
    "He's 180 pounds heavy.\n",
    "Actually that's not too heavy.\n",
    "He's got Blue eyes and Brown hair.\n",
    "His teeth are usually White depending on the coffee.\n",
    "If I add 35, 74, and 180 I get 289.\n",
    "</code>"
   ]
  },
  {
   "cell_type": "markdown",
   "metadata": {},
   "source": [
    "### Study Drills"
   ]
  },
  {
   "cell_type": "markdown",
   "metadata": {},
   "source": [
    "1. Change all the variables so there isn’t the my_ in front. Make sure you change the name everywhere, not just where you used = to set them.\n",
    "2. Try more format characters. %r is a very useful one. It’s like saying “print this no matter what.”\n",
    "3. Search online for all the Python format characters.\n",
    "4. Try to write some variables that convert the inches and pounds to centimeters and kilos. Do not just type in the measurements. Work out the math in Python."
   ]
  },
  {
   "cell_type": "markdown",
   "metadata": {},
   "source": [
    "### Common Student Questions"
   ]
  },
  {
   "cell_type": "markdown",
   "metadata": {},
   "source": [
    "**Can I make a variable like this: 1 = 'Zed Shaw'?**\n",
    "\n",
    "No, the 1 is not a valid variable name. They need to start with a character, so a1 would work, but 1 will not.\n",
    "\n",
    "**What does %s, %r, and %d do again?**\n",
    "\n",
    "You’ll learn more about this as you continue, but they are “formatters.” They tell Python to take the variable on the right and put it in to replace the %s with its value.\n",
    "\n",
    "**I don’t get it, what is a “formatter”? Huh?**\n",
    "\n",
    "The problem with teaching you programming is that to understand many of my descriptions, you need to know how to do programming already. The way I solve this is I make you do something, and then I explain it later. When you run into these kinds of questions, write them down and see if I explain it later.\n",
    "\n",
    "**How can I round a floating point number?**\n",
    "\n",
    "You can use the round() function like this: round(1.7333).\n",
    "\n",
    "***I get this error TypeError: 'str' object is not callable.**\n",
    "\n",
    "You probably forgot the % between the string and the list of variables.\n",
    "\n",
    "**Why does this not make sense to me?***\n",
    "\n",
    "Try making the numbers in this script your measurements. It’s weird, but talking about yourself will make it seem more real."
   ]
  }
 ],
 "metadata": {
  "kernelspec": {
   "display_name": "Python 3",
   "language": "python",
   "name": "python3"
  },
  "language_info": {
   "codemirror_mode": {
    "name": "ipython",
    "version": 3
   },
   "file_extension": ".py",
   "mimetype": "text/x-python",
   "name": "python",
   "nbconvert_exporter": "python",
   "pygments_lexer": "ipython3",
   "version": "3.5.2"
  }
 },
 "nbformat": 4,
 "nbformat_minor": 2
}
